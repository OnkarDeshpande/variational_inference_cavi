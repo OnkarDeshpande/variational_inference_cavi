{
 "cells": [
  {
   "cell_type": "code",
   "execution_count": 1,
   "metadata": {},
   "outputs": [],
   "source": [
    "import matplotlib.pyplot as plt\n",
    "import matplotlib\n",
    "matplotlib.rcParams['figure.figsize'] = 10,6\n",
    "import numpy as np\n",
    "\n",
    "np.random.seed(42)"
   ]
  },
  {
   "cell_type": "code",
   "execution_count": 2,
   "metadata": {},
   "outputs": [],
   "source": [
    "def generate_data(var= 15, k=10, size = 1000):\n",
    "    np.random.seed(42)\n",
    "    mu_actual = np.random.normal(loc=0, scale=15, size= k)\n",
    "    data = np.empty(size)\n",
    "    actual_mu = np.empty(size)\n",
    "    for _ in range(size):\n",
    "        tmp_mu = mu_actual[np.random.choice(k)]\n",
    "        data[_] = np.random.normal(loc=tmp_mu, scale=1, size= 1)\n",
    "        actual_mu[_] = tmp_mu\n",
    "    return data, actual_mu\n",
    "    "
   ]
  },
  {
   "cell_type": "code",
   "execution_count": 3,
   "metadata": {},
   "outputs": [
    {
     "data": {
      "image/png": "[encoded data removed]",
      "text/plain": [
       "<Figure size 720x432 with 1 Axes>"
      ]
     },
     "metadata": {},
     "output_type": "display_data"
    }
   ],
   "source": [
    "dat, mu = generate_data()\n",
    "\n",
    "plt.plot(mu, dat, \".\")\n",
    "plt.show()"
   ]
  },
  {
   "cell_type": "code",
   "execution_count": 4,
   "metadata": {},
   "outputs": [
    {
     "data": {
      "image/png": "[encoded data removed]",
      "text/plain": [
       "<Figure size 720x432 with 1 Axes>"
      ]
     },
     "metadata": {},
     "output_type": "display_data"
    }
   ],
   "source": [
    "plt.hist(dat,bins=100)\n",
    "plt.show()"
   ]
  },
  {
   "cell_type": "code",
   "execution_count": 71,
   "metadata": {},
   "outputs": [],
   "source": [
    "def cavi(data, prior_var=1, k=10,size=1000):\n",
    "    ## initialize params\n",
    "    cat_point = np.zeros((size,k))\n",
    "    for _ in range(size):\n",
    "        cat_point[_, np.random.choice(k)] = 1\n",
    "\n",
    "    mu = np.random.normal(loc=0, scale=10, size= k)\n",
    "    var = np.random.rand(k)*k\n",
    "\n",
    "    while True:\n",
    "        for i in range(size):\n",
    "            cat_point[i]  = mu*data[i] - (var+mu**2)/2\n",
    "            cat_point[i] = cat_point[i]/np.sum(cat_point[i])\n",
    "        \n",
    "        for j in range(k):\n",
    "            cat_point[,j]*data\n",
    "        \n",
    "    \n",
    "\n",
    "\n",
    "\n",
    "\n"
   ]
  },
  {
   "cell_type": "code",
   "execution_count": 72,
   "metadata": {},
   "outputs": [
    {
     "data": {
      "text/plain": [
       "array([[ 0.00567833,  0.14309049,  0.10313527, ...,  0.0062855 ,\n",
       "         0.14249741,  0.18387447],\n",
       "       [ 0.00472543,  0.1795873 ,  0.02743931, ...,  0.00590577,\n",
       "         0.05290276,  0.22348472],\n",
       "       [ 0.00879155,  0.02385161,  0.35044191, ...,  0.00752614,\n",
       "         0.43521255,  0.05446363],\n",
       "       ...,\n",
       "       [ 0.00568182,  0.14295662,  0.10341292, ...,  0.0062869 ,\n",
       "         0.14282605,  0.18372918],\n",
       "       [ 0.01260105, -0.12205493,  0.65305845, ...,  0.00904424,\n",
       "         0.79339316, -0.10388982],\n",
       "       [ 0.0107184 , -0.04994809,  0.50350571, ...,  0.008294  ,\n",
       "         0.61638072, -0.02563173]])"
      ]
     },
     "execution_count": 72,
     "metadata": {},
     "output_type": "execute_result"
    }
   ],
   "source": [
    "# cavi(dat)\n"
   ]
  },
  {
   "cell_type": "code",
   "execution_count": 70,
   "metadata": {},
   "outputs": [
    {
     "data": {
      "text/plain": [
       "array([  30.60516285,  -81.12062681,  -34.46219531,  -14.02638506,\n",
       "        -34.57859339, -119.97784127,   61.5351422 ,  -21.43635936,\n",
       "          1.35256967,  -50.90512572])"
      ]
     },
     "execution_count": 70,
     "metadata": {},
     "output_type": "execute_result"
    }
   ],
   "source": [
    "dat[9]*mu "
   ]
  },
  {
   "cell_type": "code",
   "execution_count": null,
   "metadata": {},
   "outputs": [],
   "source": []
  }
 ],
 "metadata": {
  "kernelspec": {
   "display_name": "Python 3",
   "language": "python",
   "name": "python3"
  },
  "language_info": {
   "codemirror_mode": {
    "name": "ipython",
    "version": 3
   },
   "file_extension": ".py",
   "mimetype": "text/x-python",
   "name": "python",
   "nbconvert_exporter": "python",
   "pygments_lexer": "ipython3",
   "version": "3.6.2"
  }
 },
 "nbformat": 4,
 "nbformat_minor": 2
}
