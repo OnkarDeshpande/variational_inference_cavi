{
 "cells": [
  {
   "cell_type": "markdown",
   "metadata": {},
   "source": [
    "## CAVI --> Coordinate Ascent Mean Field Variational Inference\n",
    "\n",
    "We have a gaussian mixture model. Need to find the underlying parameters.\n",
    "Instead of finding the parameters directly we find assume a family of distribution, and find a distribution which is closest to the posterior distribution.\n",
    "Closeness is measured by using KL-divergence metric.\n",
    "Mean Field Variational family: Assumes that the latent variables are mutually independent.\n",
    "\n",
    "Cost Function: ELBO Evidence Lower Bound\n",
    "\n",
    "CAVI maximizes ELBO by updating one of the latent variable of the mean field variational family, keeping the other variables constant.\n"
   ]
  },
  {
   "cell_type": "code",
   "execution_count": 28,
   "metadata": {},
   "outputs": [],
   "source": [
    "import matplotlib.pyplot as plt\n",
    "import matplotlib\n",
    "matplotlib.rcParams['figure.figsize'] = 10,6\n",
    "import seaborn as sns\n",
    "import numpy as np\n",
    "import pandas as pd\n",
    "\n",
    "from collections import defaultdict, Counter\n",
    "np.random.seed(42)\n",
    "\n",
    "import math\n",
    "from scipy.stats import multivariate_normal as mv\n"
   ]
  },
  {
   "cell_type": "code",
   "execution_count": 29,
   "metadata": {},
   "outputs": [],
   "source": [
    "\n",
    "def generate_data(var= 15, k=10, size = 1000):\n",
    "    mu_actual = np.random.normal(loc=0, scale=var, size= k)\n",
    "    data = np.empty(size)\n",
    "    actual_mu = np.empty(size)\n",
    "    data_plt = defaultdict(list)\n",
    "    for _ in range(size):\n",
    "        col = np.random.choice(k)\n",
    "        tmp_mu = mu_actual[col]\n",
    "        data[_] = np.random.normal(loc=tmp_mu, scale=1, size= 1)\n",
    "        actual_mu[_] = tmp_mu\n",
    "        data_plt[col].append(data[_])\n",
    "    return data, actual_mu, data_plt\n",
    "    "
   ]
  },
  {
   "cell_type": "code",
   "execution_count": 30,
   "metadata": {},
   "outputs": [],
   "source": [
    "K=4\n",
    "SIZE = 10000\n",
    "dat, mu, data_p = generate_data(k=K, size=SIZE)"
   ]
  },
  {
   "cell_type": "code",
   "execution_count": 31,
   "metadata": {},
   "outputs": [
    {
     "data": {
      "image/png": "[encoded data removed]",
      "text/plain": [
       "<Figure size 720x432 with 1 Axes>"
      ]
     },
     "metadata": {},
     "output_type": "display_data"
    }
   ],
   "source": [
    "plt.hist(dat,bins=100)\n",
    "plt.show()"
   ]
  },
  {
   "cell_type": "code",
   "execution_count": 32,
   "metadata": {},
   "outputs": [],
   "source": [
    "def compute_elbo(var_mu, var_var, var_cat_point):\n",
    "    pass\n",
    "\n",
    "def cavi(data, prior_var=1, k=10,size=1000):\n",
    "    ## initialize params\n",
    "    cat_point = np.zeros((size,k))\n",
    "    for _ in range(size):\n",
    "        cat_point[_, np.random.choice(k)] = 1\n",
    "    \n",
    "\n",
    "    mu = np.random.normal(loc=0, scale=10, size= k)\n",
    "    var = np.random.rand(k)*k\n",
    "    mu_new = np.zeros(k)\n",
    "    var_new = np.zeros(k)\n",
    "    while True:\n",
    "        for i in range(size):\n",
    "            cat_point[i]  = np.exp(mu*data[i] - (var+mu**2)/2)\n",
    "            cat_point[i] = cat_point[i]/np.sum(cat_point[i])\n",
    "        \n",
    "        for j in range(k):\n",
    "            mu_new[j] = np.sum(cat_point[:,j]*data)/((1/prior_var) + np.sum(cat_point[:,j]))\n",
    "            var_new[j] = 1/((1/prior_var) + np.sum(cat_point[:,j]))\n",
    "        \n",
    "        if np.dot(mu-mu_new,mu-mu_new) < 0.0000001:\n",
    "            break\n",
    "        mu = mu_new\n",
    "        var = var_new\n",
    "        \n",
    "    mixture_components = list(zip(mu_new,var_new))\n",
    "    mixture_components.sort()\n",
    "    return mixture_components, cat_point\n",
    "\n",
    "#         new_elbo = compute_elbo(mu_new, var_new, cat_point)\n",
    "#         if new_elbo - old_elbo < error:\n",
    "#             break\n",
    "#         else:\n",
    "#             old_elbo = new_elbo"
   ]
  },
  {
   "cell_type": "code",
   "execution_count": 33,
   "metadata": {},
   "outputs": [
    {
     "data": {
      "text/plain": [
       "[(-2.409995922206579, 0.0005319043108985289),\n",
       " (1.487814874210359, 0.0019218869949739665),\n",
       " (1.4878293304151884, 0.001921883619045752),\n",
       " (13.770094939455106, 0.0001411767807752318)]"
      ]
     },
     "execution_count": 33,
     "metadata": {},
     "output_type": "execute_result"
    }
   ],
   "source": [
    "mu_var, cluster_prob = cavi(dat, k = K, size = SIZE)\n",
    "mu_var"
   ]
  },
  {
   "cell_type": "code",
   "execution_count": 34,
   "metadata": {},
   "outputs": [
    {
     "data": {
      "text/plain": [
       "array([0.3360314 , 5.96289742, 8.22749874, 9.07535291])"
      ]
     },
     "execution_count": 34,
     "metadata": {},
     "output_type": "execute_result"
    }
   ],
   "source": [
    "##difference of means actual vs calculated\n",
    "np.sort(np.unique(mu))-np.sort([item[0] for item in mu_var])"
   ]
  },
  {
   "cell_type": "code",
   "execution_count": 35,
   "metadata": {},
   "outputs": [
    {
     "data": {
      "image/png": "[encoded data removed]",
      "text/plain": [
       "<Figure size 720x432 with 1 Axes>"
      ]
     },
     "metadata": {},
     "output_type": "display_data"
    }
   ],
   "source": [
    "color = ['blue', 'green', 'red', 'magenta', 'yellow']\n",
    "\n",
    "for k in range(K):\n",
    "    plt.hist(data_p[k], bins=30, color=color[k], histtype='step', lw=2)\n",
    "plt.hist(dat, color='k', bins=90, alpha=0.1)\n",
    "plt.show()"
   ]
  },
  {
   "cell_type": "code",
   "execution_count": 36,
   "metadata": {},
   "outputs": [
    {
     "name": "stderr",
     "output_type": "stream",
     "text": [
      "C:\\Users\\onkar\\Anaconda3\\lib\\site-packages\\matplotlib\\axes\\_axes.py:6462: UserWarning: The 'normed' kwarg is deprecated, and has been replaced by the 'density' kwarg.\n",
      "  warnings.warn(\"The 'normed' kwarg is deprecated, and has been \"\n"
     ]
    },
    {
     "data": {
      "image/png": "[encoded data removed]",
      "text/plain": [
       "<Figure size 720x432 with 1 Axes>"
      ]
     },
     "metadata": {},
     "output_type": "display_data"
    }
   ],
   "source": [
    "for k in range(K):\n",
    "    plt.hist(data_p[k], bins=10, color=color[k], alpha=0.2, normed=True)\n",
    "for k in range(K):\n",
    "    vals=np.random.normal(mu_var[k][0], 1, size=1000)\n",
    "    sns.kdeplot(vals,  color='k')\n",
    "plt.show()"
   ]
  },
  {
   "cell_type": "code",
   "execution_count": 37,
   "metadata": {},
   "outputs": [
    {
     "data": {
      "text/html": [
       "<div>\n",
       "<style scoped>\n",
       "    .dataframe tbody tr th:only-of-type {\n",
       "        vertical-align: middle;\n",
       "    }\n",
       "\n",
       "    .dataframe tbody tr th {\n",
       "        vertical-align: top;\n",
       "    }\n",
       "\n",
       "    .dataframe thead th {\n",
       "        text-align: right;\n",
       "    }\n",
       "</style>\n",
       "<table border=\"1\" class=\"dataframe\">\n",
       "  <thead>\n",
       "    <tr style=\"text-align: right;\">\n",
       "      <th></th>\n",
       "      <th>Actual mean</th>\n",
       "      <th>CAVI mean</th>\n",
       "      <th>Actual number of points</th>\n",
       "      <th>GMM points</th>\n",
       "    </tr>\n",
       "  </thead>\n",
       "  <tbody>\n",
       "    <tr>\n",
       "      <th>0</th>\n",
       "      <td>-2.073965</td>\n",
       "      <td>-2.409996</td>\n",
       "      <td>2512</td>\n",
       "      <td>310</td>\n",
       "    </tr>\n",
       "    <tr>\n",
       "      <th>1</th>\n",
       "      <td>7.450712</td>\n",
       "      <td>1.487815</td>\n",
       "      <td>2538</td>\n",
       "      <td>379</td>\n",
       "    </tr>\n",
       "    <tr>\n",
       "      <th>2</th>\n",
       "      <td>9.715328</td>\n",
       "      <td>1.487829</td>\n",
       "      <td>2434</td>\n",
       "      <td>2189</td>\n",
       "    </tr>\n",
       "    <tr>\n",
       "      <th>3</th>\n",
       "      <td>22.845448</td>\n",
       "      <td>13.770095</td>\n",
       "      <td>2516</td>\n",
       "      <td>7122</td>\n",
       "    </tr>\n",
       "  </tbody>\n",
       "</table>\n",
       "</div>"
      ],
      "text/plain": [
       "   Actual mean  CAVI mean  Actual number of points  GMM points\n",
       "0    -2.073965  -2.409996                     2512         310\n",
       "1     7.450712   1.487815                     2538         379\n",
       "2     9.715328   1.487829                     2434        2189\n",
       "3    22.845448  13.770095                     2516        7122"
      ]
     },
     "execution_count": 37,
     "metadata": {},
     "output_type": "execute_result"
    }
   ],
   "source": [
    "arr_ = [np.argmax(cluster_prob[i]) for i in range(SIZE)]\n",
    "arr_map = Counter(arr_)\n",
    "df_dict = defaultdict(list)\n",
    "mu_tmp = np.unique(mu)\n",
    "for i in range(K):\n",
    "    df_dict['Actual mean'].append(mu_tmp[i])\n",
    "    df_dict['CAVI mean'].append(mu_var[i][0])\n",
    "    df_dict['Actual number of points'].append(len(data_p[i]))\n",
    "    df_dict['GMM points'].append(arr_map[i])\n",
    "\n",
    "pd.DataFrame(df_dict)"
   ]
  },
  {
   "cell_type": "code",
   "execution_count": null,
   "metadata": {},
   "outputs": [],
   "source": []
  },
  {
   "cell_type": "code",
   "execution_count": null,
   "metadata": {},
   "outputs": [],
   "source": []
  },
  {
   "cell_type": "code",
   "execution_count": null,
   "metadata": {},
   "outputs": [],
   "source": []
  },
  {
   "cell_type": "code",
   "execution_count": null,
   "metadata": {},
   "outputs": [],
   "source": []
  }
 ],
 "metadata": {
  "kernelspec": {
   "display_name": "Python 3",
   "language": "python",
   "name": "python3"
  },
  "language_info": {
   "codemirror_mode": {
    "name": "ipython",
    "version": 3
   },
   "file_extension": ".py",
   "mimetype": "text/x-python",
   "name": "python",
   "nbconvert_exporter": "python",
   "pygments_lexer": "ipython3",
   "version": "3.6.2"
  }
 },
 "nbformat": 4,
 "nbformat_minor": 2
}
